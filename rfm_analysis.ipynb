{
 "cells": [
  {
   "cell_type": "markdown",
   "id": "2f2151bc-b7fd-4d26-aaf6-a922ee0b46ec",
   "metadata": {},
   "source": [
    "### <font color='blue'>Análise RFM (Recency, Frequency, Monetary Value) e Dashboard Interativo Para a Área de Marketing</font>"
   ]
  },
  {
   "cell_type": "markdown",
   "id": "2c637a7c-e058-4354-afc5-7d10b3edbb60",
   "metadata": {},
   "source": [
    "Link do dataset: https://www.kaggle.com/datasets/ilkeryildiz/online-retail-listing"
   ]
  },
  {
   "cell_type": "markdown",
   "id": "38af0903-1c24-45d5-b85e-5a6373d12f2c",
   "metadata": {},
   "source": [
    "### <font color='blue'>Instalando e Carregando os Pacotes</font>"
   ]
  },
  {
   "cell_type": "code",
   "execution_count": 1,
   "id": "3c0c7775-272e-481a-8e20-6523ad99a5de",
   "metadata": {},
   "outputs": [],
   "source": [
    "# Imports\n",
    "import sklearn\n",
    "import squarify\n",
    "import pandas as pd\n",
    "import seaborn as sns\n",
    "import plotly.graph_objects as go\n",
    "import matplotlib.pyplot as plt\n",
    "from sklearn.preprocessing import LabelEncoder\n",
    "from datetime import datetime, timedelta"
   ]
  },
  {
   "cell_type": "code",
   "execution_count": 2,
   "id": "dbe32dfc-dea2-41f1-9a30-9fb2d1e5cfdc",
   "metadata": {},
   "outputs": [],
   "source": [
    "# Carregando os dados\n",
    "df = pd.read_excel(\"online_retail_listing.xlsx\")"
   ]
  },
  {
   "cell_type": "code",
   "execution_count": 3,
   "id": "519fb5a8-156d-477c-b329-96b1cbbb1657",
   "metadata": {},
   "outputs": [
    {
     "data": {
      "text/plain": [
       "(1048575, 8)"
      ]
     },
     "execution_count": 3,
     "metadata": {},
     "output_type": "execute_result"
    }
   ],
   "source": [
    "# Shape\n",
    "df.shape"
   ]
  },
  {
   "cell_type": "code",
   "execution_count": 4,
   "id": "6a68b4cd-0e64-417f-aaf9-9b9388b0bd0d",
   "metadata": {},
   "outputs": [
    {
     "data": {
      "text/html": [
       "<div>\n",
       "<style scoped>\n",
       "    .dataframe tbody tr th:only-of-type {\n",
       "        vertical-align: middle;\n",
       "    }\n",
       "\n",
       "    .dataframe tbody tr th {\n",
       "        vertical-align: top;\n",
       "    }\n",
       "\n",
       "    .dataframe thead th {\n",
       "        text-align: right;\n",
       "    }\n",
       "</style>\n",
       "<table border=\"1\" class=\"dataframe\">\n",
       "  <thead>\n",
       "    <tr style=\"text-align: right;\">\n",
       "      <th></th>\n",
       "      <th>Invoice</th>\n",
       "      <th>StockCode</th>\n",
       "      <th>Description</th>\n",
       "      <th>Quantity</th>\n",
       "      <th>InvoiceDate</th>\n",
       "      <th>Price</th>\n",
       "      <th>Customer ID</th>\n",
       "      <th>Country</th>\n",
       "    </tr>\n",
       "  </thead>\n",
       "  <tbody>\n",
       "    <tr>\n",
       "      <th>0</th>\n",
       "      <td>489434</td>\n",
       "      <td>85048</td>\n",
       "      <td>15CM CHRISTMAS GLASS BALL 20 LIGHTS</td>\n",
       "      <td>12</td>\n",
       "      <td>1.12.2009 07:45</td>\n",
       "      <td>6.95</td>\n",
       "      <td>13085.0</td>\n",
       "      <td>United Kingdom</td>\n",
       "    </tr>\n",
       "    <tr>\n",
       "      <th>1</th>\n",
       "      <td>489434</td>\n",
       "      <td>79323P</td>\n",
       "      <td>PINK CHERRY LIGHTS</td>\n",
       "      <td>12</td>\n",
       "      <td>1.12.2009 07:45</td>\n",
       "      <td>6.75</td>\n",
       "      <td>13085.0</td>\n",
       "      <td>United Kingdom</td>\n",
       "    </tr>\n",
       "    <tr>\n",
       "      <th>2</th>\n",
       "      <td>489434</td>\n",
       "      <td>79323W</td>\n",
       "      <td>WHITE CHERRY LIGHTS</td>\n",
       "      <td>12</td>\n",
       "      <td>1.12.2009 07:45</td>\n",
       "      <td>6.75</td>\n",
       "      <td>13085.0</td>\n",
       "      <td>United Kingdom</td>\n",
       "    </tr>\n",
       "    <tr>\n",
       "      <th>3</th>\n",
       "      <td>489434</td>\n",
       "      <td>22041</td>\n",
       "      <td>RECORD FRAME 7\" SINGLE SIZE</td>\n",
       "      <td>48</td>\n",
       "      <td>1.12.2009 07:45</td>\n",
       "      <td>2.10</td>\n",
       "      <td>13085.0</td>\n",
       "      <td>United Kingdom</td>\n",
       "    </tr>\n",
       "    <tr>\n",
       "      <th>4</th>\n",
       "      <td>489434</td>\n",
       "      <td>21232</td>\n",
       "      <td>STRAWBERRY CERAMIC TRINKET BOX</td>\n",
       "      <td>24</td>\n",
       "      <td>1.12.2009 07:45</td>\n",
       "      <td>1.25</td>\n",
       "      <td>13085.0</td>\n",
       "      <td>United Kingdom</td>\n",
       "    </tr>\n",
       "  </tbody>\n",
       "</table>\n",
       "</div>"
      ],
      "text/plain": [
       "  Invoice StockCode                          Description  Quantity  \\\n",
       "0  489434     85048  15CM CHRISTMAS GLASS BALL 20 LIGHTS        12   \n",
       "1  489434    79323P                   PINK CHERRY LIGHTS        12   \n",
       "2  489434    79323W                  WHITE CHERRY LIGHTS        12   \n",
       "3  489434     22041         RECORD FRAME 7\" SINGLE SIZE         48   \n",
       "4  489434     21232       STRAWBERRY CERAMIC TRINKET BOX        24   \n",
       "\n",
       "       InvoiceDate  Price  Customer ID         Country  \n",
       "0  1.12.2009 07:45   6.95      13085.0  United Kingdom  \n",
       "1  1.12.2009 07:45   6.75      13085.0  United Kingdom  \n",
       "2  1.12.2009 07:45   6.75      13085.0  United Kingdom  \n",
       "3  1.12.2009 07:45   2.10      13085.0  United Kingdom  \n",
       "4  1.12.2009 07:45   1.25      13085.0  United Kingdom  "
      ]
     },
     "execution_count": 4,
     "metadata": {},
     "output_type": "execute_result"
    }
   ],
   "source": [
    "# Primeiros documentos\n",
    "df.head()"
   ]
  },
  {
   "cell_type": "code",
   "execution_count": 5,
   "id": "ed601522-1b75-46e9-8c35-47d57e51cd65",
   "metadata": {},
   "outputs": [
    {
     "name": "stdout",
     "output_type": "stream",
     "text": [
      "<class 'pandas.core.frame.DataFrame'>\n",
      "RangeIndex: 1048575 entries, 0 to 1048574\n",
      "Data columns (total 8 columns):\n",
      " #   Column       Non-Null Count    Dtype  \n",
      "---  ------       --------------    -----  \n",
      " 0   Invoice      1048575 non-null  object \n",
      " 1   StockCode    1048575 non-null  object \n",
      " 2   Description  1044203 non-null  object \n",
      " 3   Quantity     1048575 non-null  int64  \n",
      " 4   InvoiceDate  1048575 non-null  object \n",
      " 5   Price        1048575 non-null  float64\n",
      " 6   Customer ID  811893 non-null   float64\n",
      " 7   Country      1048575 non-null  object \n",
      "dtypes: float64(2), int64(1), object(5)\n",
      "memory usage: 64.0+ MB\n"
     ]
    }
   ],
   "source": [
    "# Informações das colunas\n",
    "df.info()"
   ]
  },
  {
   "cell_type": "code",
   "execution_count": 6,
   "id": "a68d9af8-1e3d-484b-a3a3-201e4abc8368",
   "metadata": {},
   "outputs": [],
   "source": [
    "# Ajustando tipo da coluna Customer ID\n",
    "df['Customer ID'] = df['Customer ID'].astype('Int64')"
   ]
  },
  {
   "cell_type": "markdown",
   "id": "d522ad08-6a1d-4de4-83a2-1387dbc0c789",
   "metadata": {},
   "source": [
    "### <font color='blue'>Engenharia de Atributos com as Colunas do Tipo Data</font>"
   ]
  },
  {
   "cell_type": "code",
   "execution_count": 7,
   "id": "fa7ffc1c-0680-44b4-b86b-fe7d769aa128",
   "metadata": {},
   "outputs": [],
   "source": [
    "# Transformar a coluna InvoiceDate para datetime\n",
    "df['InvoiceDate'] = pd.to_datetime(df['InvoiceDate'], format='%d.%m.%Y %H:%M')"
   ]
  },
  {
   "cell_type": "code",
   "execution_count": 8,
   "id": "89fbdec1-860b-41ff-8d02-d8ae05981b2f",
   "metadata": {},
   "outputs": [],
   "source": [
    "# Extrair apenas a data da coluna InvoiceDate e criar uma nova coluna\n",
    "df['InvoiceDate'] = df['InvoiceDate'].dt.date"
   ]
  },
  {
   "cell_type": "markdown",
   "id": "be49f2bc-c06a-4f95-b1e7-436e2d006ac4",
   "metadata": {},
   "source": [
    "### <font color='blue'>Agregação dos Dados Para Criação dos Parâmetros R, F e M</font>"
   ]
  },
  {
   "cell_type": "code",
   "execution_count": 9,
   "id": "9282e4d3-d741-448a-a3e8-855e86a4ee30",
   "metadata": {},
   "outputs": [
    {
     "data": {
      "text/plain": [
       "datetime.date(2011, 12, 5)"
      ]
     },
     "execution_count": 9,
     "metadata": {},
     "output_type": "execute_result"
    }
   ],
   "source": [
    "# Define a data mais recente\n",
    "data_mais_recente = df['InvoiceDate'].max() + timedelta(days = 1)\n",
    "data_mais_recente"
   ]
  },
  {
   "cell_type": "markdown",
   "id": "b93291e1-e096-4822-aaaa-3117678c2fa7",
   "metadata": {},
   "source": [
    "**df['InvoiceDate'].max()**: Esta parte do código está acessando a coluna 'InvoiceDate' em um DataFrame chamado df e encontrando a data máxima, que é a data da fatura mais recente no conjunto de dados.\n",
    "\n",
    "**timedelta(days = 1)**: Isso cria um intervalo de tempo de um dia. A função timedelta faz parte do módulo datetime em Python e é usada para representar uma duração de tempo. Neste caso, está sendo usada para adicionar um dia à data da fatura mais recente.\n",
    "\n",
    "O resultado é a data da fatura mais recente mais um dia.\n",
    "\n",
    "O motivo para adicionar um dia à data da fatura mais recente é criar um ponto de referência para calcular a recência. Na análise RFM, a recência é calculada como o número de dias desde a última compra de um cliente. Ao definir a data_mais_recente para um dia após a compra mais recente no conjunto de dados, você pode calcular a recência simplesmente subtraindo a data da fatura da data_mais_recente para cada cliente, o que é feito abaixo:"
   ]
  },
  {
   "cell_type": "code",
   "execution_count": 10,
   "id": "77119195-7d85-42c2-924a-796f5c7bbabb",
   "metadata": {},
   "outputs": [],
   "source": [
    "# Agrupando por Customer ID\n",
    "df_agg = df.groupby(['Customer ID']).agg({'InvoiceDate': lambda x:(data_mais_recente - x.max()).days,\n",
    "                                          'Invoice': 'count',\n",
    "                                          'Price': 'sum'})"
   ]
  },
  {
   "cell_type": "code",
   "execution_count": 11,
   "id": "a46ab84f-8d3c-4bf6-8dc5-1dd7c4739f6f",
   "metadata": {},
   "outputs": [],
   "source": [
    "# Renomeia as colunas\n",
    "df_agg.rename(columns = {'InvoiceDate': 'Recency', \n",
    "                             'Invoice': 'Frequency', \n",
    "                             'Price': 'Monetary'}, \n",
    "              inplace = True)"
   ]
  },
  {
   "cell_type": "code",
   "execution_count": 12,
   "id": "857aec1b-d1d0-4a12-916e-3053c18a0a9b",
   "metadata": {},
   "outputs": [
    {
     "data": {
      "text/html": [
       "<div>\n",
       "<style scoped>\n",
       "    .dataframe tbody tr th:only-of-type {\n",
       "        vertical-align: middle;\n",
       "    }\n",
       "\n",
       "    .dataframe tbody tr th {\n",
       "        vertical-align: top;\n",
       "    }\n",
       "\n",
       "    .dataframe thead th {\n",
       "        text-align: right;\n",
       "    }\n",
       "</style>\n",
       "<table border=\"1\" class=\"dataframe\">\n",
       "  <thead>\n",
       "    <tr style=\"text-align: right;\">\n",
       "      <th></th>\n",
       "      <th>Recency</th>\n",
       "      <th>Frequency</th>\n",
       "      <th>Monetary</th>\n",
       "    </tr>\n",
       "    <tr>\n",
       "      <th>Customer ID</th>\n",
       "      <th></th>\n",
       "      <th></th>\n",
       "      <th></th>\n",
       "    </tr>\n",
       "  </thead>\n",
       "  <tbody>\n",
       "    <tr>\n",
       "      <th>12346</th>\n",
       "      <td>321</td>\n",
       "      <td>48</td>\n",
       "      <td>580.44</td>\n",
       "    </tr>\n",
       "    <tr>\n",
       "      <th>12347</th>\n",
       "      <td>35</td>\n",
       "      <td>242</td>\n",
       "      <td>630.62</td>\n",
       "    </tr>\n",
       "    <tr>\n",
       "      <th>12348</th>\n",
       "      <td>71</td>\n",
       "      <td>51</td>\n",
       "      <td>193.10</td>\n",
       "    </tr>\n",
       "    <tr>\n",
       "      <th>12349</th>\n",
       "      <td>14</td>\n",
       "      <td>180</td>\n",
       "      <td>1504.59</td>\n",
       "    </tr>\n",
       "    <tr>\n",
       "      <th>12350</th>\n",
       "      <td>306</td>\n",
       "      <td>17</td>\n",
       "      <td>65.30</td>\n",
       "    </tr>\n",
       "  </tbody>\n",
       "</table>\n",
       "</div>"
      ],
      "text/plain": [
       "             Recency  Frequency  Monetary\n",
       "Customer ID                              \n",
       "12346            321         48    580.44\n",
       "12347             35        242    630.62\n",
       "12348             71         51    193.10\n",
       "12349             14        180   1504.59\n",
       "12350            306         17     65.30"
      ]
     },
     "execution_count": 12,
     "metadata": {},
     "output_type": "execute_result"
    }
   ],
   "source": [
    "# Visualiza\n",
    "df_agg.head()"
   ]
  },
  {
   "cell_type": "code",
   "execution_count": 13,
   "id": "8341ac79-d999-4a9c-a575-c6efb111d3d7",
   "metadata": {},
   "outputs": [
    {
     "data": {
      "text/plain": [
       "Recency      0\n",
       "Frequency    0\n",
       "Monetary     0\n",
       "dtype: int64"
      ]
     },
     "execution_count": 13,
     "metadata": {},
     "output_type": "execute_result"
    }
   ],
   "source": [
    "# Verificando se há valores ausentes\n",
    "df_agg.isna().sum()"
   ]
  },
  {
   "cell_type": "code",
   "execution_count": 14,
   "id": "5e854ec5-54f6-4523-b4fe-170cbf035ec8",
   "metadata": {},
   "outputs": [
    {
     "data": {
      "text/plain": [
       "Frequency\n",
       "1     146\n",
       "6      84\n",
       "16     83\n",
       "11     82\n",
       "13     77\n",
       "18     77\n",
       "12     77\n",
       "5      75\n",
       "8      75\n",
       "20     73\n",
       "Name: count, dtype: int64"
      ]
     },
     "execution_count": 14,
     "metadata": {},
     "output_type": "execute_result"
    }
   ],
   "source": [
    "# Verificando as frequências de compra\n",
    "df_agg['Frequency'].value_counts().head(10)"
   ]
  },
  {
   "cell_type": "markdown",
   "id": "5129a123-a2b8-47e5-b775-60012bdcddc2",
   "metadata": {},
   "source": [
    "### <font color='blue'>Definição dos Recursos RFM Através de Análise Estatística</font>"
   ]
  },
  {
   "cell_type": "code",
   "execution_count": 15,
   "id": "184bae50-5b72-4993-9a82-b7edb724c0bf",
   "metadata": {},
   "outputs": [],
   "source": [
    "# Criando labels para Recency \n",
    "r_labels = range(4, 0, -1)"
   ]
  },
  {
   "cell_type": "code",
   "execution_count": 16,
   "id": "5e32988b-7bc1-4295-a2e8-90ccd058656d",
   "metadata": {},
   "outputs": [],
   "source": [
    "# Atribuindo esses rótulos a 4 grupos de percentis\n",
    "r_groups = pd.qcut(df_agg['Recency'], q = 4, labels = r_labels)"
   ]
  },
  {
   "cell_type": "markdown",
   "id": "31a6defc-6562-4e9a-83f4-a46a68e91948",
   "metadata": {},
   "source": [
    "\r\n",
    "Este código, `r_labels = range(4, 0, -1)` e `r_groups = pd.qcut(df_agg['Recency'], q = 4, labels = r_labels)`, é usado para **categorizar os clientes em grupos com base na recência de suas compras**. Ele afeta diretamente o \"R\" da análise RFM (Recência, Frequência e Valor Monetário), que é uma técnica de segmentação de clientes que os agrupa com base em seu comportamento de compra.\r\n",
    "#\r\n",
    "## Por que usar esse código?\r\n",
    "\r\n",
    "* **Segmentação:** Ele divide os clientes em 4 grupos, permitindo uma análise mais granular e estratégias de marketing personalizadas para cada grupo.\r\n",
    "* **Quantidades iguais:** `pd.qcut()` garante que os grupos tenham aproximadamente o mesmo número de clientes, o que é útil para comparar o comportamento entre os grupos.\r\n",
    "* **Rótulos intuitivos:** Os rótulos de 4 a 1 indicam a ordem de recência, sendo 4 o mais recente e 1 o menos recente, facilitando a interpidades e lançamentos."
   ]
  },
  {
   "cell_type": "code",
   "execution_count": 17,
   "id": "d33f6dd8-80f1-4ca1-886c-bbb76ad9f63e",
   "metadata": {},
   "outputs": [
    {
     "data": {
      "text/plain": [
       "Recency\n",
       "3    1493\n",
       "4    1484\n",
       "2    1475\n",
       "1    1472\n",
       "Name: count, dtype: int64"
      ]
     },
     "execution_count": 17,
     "metadata": {},
     "output_type": "execute_result"
    }
   ],
   "source": [
    "r_groups.value_counts()"
   ]
  },
  {
   "cell_type": "code",
   "execution_count": 18,
   "id": "0d870c8b-579c-4885-bbd4-01d4b6e38463",
   "metadata": {},
   "outputs": [],
   "source": [
    "# Cria a coluna R no dataframe\n",
    "df_agg = df_agg.assign(R = r_groups.values)"
   ]
  },
  {
   "cell_type": "code",
   "execution_count": 19,
   "id": "2859f275-3320-455b-880e-cc7a0b226e34",
   "metadata": {},
   "outputs": [
    {
     "data": {
      "text/html": [
       "<div>\n",
       "<style scoped>\n",
       "    .dataframe tbody tr th:only-of-type {\n",
       "        vertical-align: middle;\n",
       "    }\n",
       "\n",
       "    .dataframe tbody tr th {\n",
       "        vertical-align: top;\n",
       "    }\n",
       "\n",
       "    .dataframe thead th {\n",
       "        text-align: right;\n",
       "    }\n",
       "</style>\n",
       "<table border=\"1\" class=\"dataframe\">\n",
       "  <thead>\n",
       "    <tr style=\"text-align: right;\">\n",
       "      <th></th>\n",
       "      <th>Recency</th>\n",
       "      <th>Frequency</th>\n",
       "      <th>Monetary</th>\n",
       "      <th>R</th>\n",
       "    </tr>\n",
       "    <tr>\n",
       "      <th>Customer ID</th>\n",
       "      <th></th>\n",
       "      <th></th>\n",
       "      <th></th>\n",
       "      <th></th>\n",
       "    </tr>\n",
       "  </thead>\n",
       "  <tbody>\n",
       "    <tr>\n",
       "      <th>12404</th>\n",
       "      <td>678</td>\n",
       "      <td>1</td>\n",
       "      <td>63.24</td>\n",
       "      <td>1</td>\n",
       "    </tr>\n",
       "    <tr>\n",
       "      <th>17184</th>\n",
       "      <td>565</td>\n",
       "      <td>14</td>\n",
       "      <td>55.33</td>\n",
       "      <td>1</td>\n",
       "    </tr>\n",
       "    <tr>\n",
       "      <th>16237</th>\n",
       "      <td>433</td>\n",
       "      <td>7</td>\n",
       "      <td>28.90</td>\n",
       "      <td>1</td>\n",
       "    </tr>\n",
       "    <tr>\n",
       "      <th>15615</th>\n",
       "      <td>6</td>\n",
       "      <td>914</td>\n",
       "      <td>2343.62</td>\n",
       "      <td>4</td>\n",
       "    </tr>\n",
       "    <tr>\n",
       "      <th>15953</th>\n",
       "      <td>11</td>\n",
       "      <td>192</td>\n",
       "      <td>637.35</td>\n",
       "      <td>4</td>\n",
       "    </tr>\n",
       "  </tbody>\n",
       "</table>\n",
       "</div>"
      ],
      "text/plain": [
       "             Recency  Frequency  Monetary  R\n",
       "Customer ID                                 \n",
       "12404            678          1     63.24  1\n",
       "17184            565         14     55.33  1\n",
       "16237            433          7     28.90  1\n",
       "15615              6        914   2343.62  4\n",
       "15953             11        192    637.35  4"
      ]
     },
     "execution_count": 19,
     "metadata": {},
     "output_type": "execute_result"
    }
   ],
   "source": [
    "# Amostra\n",
    "df_agg.sample(5)"
   ]
  },
  {
   "cell_type": "markdown",
   "id": "e1508bd1-4e12-4bbf-ad23-4dac3e8c1846",
   "metadata": {},
   "source": [
    "Para a frequência vamos trabalhar somente com 2 grupos: Grupo dos clientes que compraram apenas uma vez e grupo dos clientes que compraram mais de uma vez."
   ]
  },
  {
   "cell_type": "code",
   "execution_count": 20,
   "id": "01593912-37fb-4fc0-aa7f-57265f02c431",
   "metadata": {},
   "outputs": [],
   "source": [
    "# Criando labels para Frequency\n",
    "f_labels = range(1, 3)"
   ]
  },
  {
   "cell_type": "code",
   "execution_count": 21,
   "id": "5fb6e901-c731-4a61-8740-6d31431b76a1",
   "metadata": {},
   "outputs": [],
   "source": [
    "# Função\n",
    "def pct_rank_qcut(series, n):\n",
    "    \n",
    "    # Cria uma série de valores limite para os quantis, dividindo o intervalo [0, 1] em n partes iguais\n",
    "    edges = pd.Series([float(i) / n for i in range(n + 1)])\n",
    "    \n",
    "    # Define uma função que encontra o índice do primeiro valor na série de limites que é maior ou igual a x\n",
    "    f = lambda x: (edges >= x).values.argmax()\n",
    "    \n",
    "    # Classifica a série de entrada como uma porcentagem (de 0 a 1)\n",
    "    # e então aplica a função f para mapear cada valor para seu respectivo quantil\n",
    "    return series.rank(pct = 1).apply(f)"
   ]
  },
  {
   "cell_type": "code",
   "execution_count": 22,
   "id": "121f6169-0ff7-4225-98c0-8ee0240794dc",
   "metadata": {},
   "outputs": [],
   "source": [
    "# Atribuindo esses rótulos a 2 grupos de percentis \n",
    "f_groups = pct_rank_qcut(df_agg['Frequency'], 2)"
   ]
  },
  {
   "cell_type": "code",
   "execution_count": 23,
   "id": "af9f1b1f-30bd-44bd-b70d-06ae8b6c30a0",
   "metadata": {},
   "outputs": [
    {
     "data": {
      "text/plain": [
       "Frequency\n",
       "2    2982\n",
       "1    2942\n",
       "Name: count, dtype: int64"
      ]
     },
     "execution_count": 23,
     "metadata": {},
     "output_type": "execute_result"
    }
   ],
   "source": [
    "f_groups.value_counts()"
   ]
  },
  {
   "cell_type": "code",
   "execution_count": 24,
   "id": "6e11f9d2-4a65-4ab0-821c-2b6db7a2d001",
   "metadata": {},
   "outputs": [],
   "source": [
    "# Cria a coluna F no dataframe\n",
    "df_agg = df_agg.assign(F = f_groups.values)"
   ]
  },
  {
   "cell_type": "code",
   "execution_count": 25,
   "id": "b83ee850-0eae-4f7b-b21b-95329a1fbaf0",
   "metadata": {},
   "outputs": [
    {
     "data": {
      "text/html": [
       "<div>\n",
       "<style scoped>\n",
       "    .dataframe tbody tr th:only-of-type {\n",
       "        vertical-align: middle;\n",
       "    }\n",
       "\n",
       "    .dataframe tbody tr th {\n",
       "        vertical-align: top;\n",
       "    }\n",
       "\n",
       "    .dataframe thead th {\n",
       "        text-align: right;\n",
       "    }\n",
       "</style>\n",
       "<table border=\"1\" class=\"dataframe\">\n",
       "  <thead>\n",
       "    <tr style=\"text-align: right;\">\n",
       "      <th></th>\n",
       "      <th>Recency</th>\n",
       "      <th>Frequency</th>\n",
       "      <th>Monetary</th>\n",
       "      <th>R</th>\n",
       "      <th>F</th>\n",
       "    </tr>\n",
       "    <tr>\n",
       "      <th>Customer ID</th>\n",
       "      <th></th>\n",
       "      <th></th>\n",
       "      <th></th>\n",
       "      <th></th>\n",
       "      <th></th>\n",
       "    </tr>\n",
       "  </thead>\n",
       "  <tbody>\n",
       "    <tr>\n",
       "      <th>16362</th>\n",
       "      <td>28</td>\n",
       "      <td>104</td>\n",
       "      <td>302.35</td>\n",
       "      <td>3</td>\n",
       "      <td>2</td>\n",
       "    </tr>\n",
       "    <tr>\n",
       "      <th>14884</th>\n",
       "      <td>665</td>\n",
       "      <td>8</td>\n",
       "      <td>15.00</td>\n",
       "      <td>1</td>\n",
       "      <td>1</td>\n",
       "    </tr>\n",
       "    <tr>\n",
       "      <th>15291</th>\n",
       "      <td>21</td>\n",
       "      <td>267</td>\n",
       "      <td>1453.00</td>\n",
       "      <td>4</td>\n",
       "      <td>2</td>\n",
       "    </tr>\n",
       "    <tr>\n",
       "      <th>16404</th>\n",
       "      <td>66</td>\n",
       "      <td>24</td>\n",
       "      <td>131.55</td>\n",
       "      <td>3</td>\n",
       "      <td>1</td>\n",
       "    </tr>\n",
       "    <tr>\n",
       "      <th>17692</th>\n",
       "      <td>123</td>\n",
       "      <td>164</td>\n",
       "      <td>312.47</td>\n",
       "      <td>2</td>\n",
       "      <td>2</td>\n",
       "    </tr>\n",
       "  </tbody>\n",
       "</table>\n",
       "</div>"
      ],
      "text/plain": [
       "             Recency  Frequency  Monetary  R  F\n",
       "Customer ID                                    \n",
       "16362             28        104    302.35  3  2\n",
       "14884            665          8     15.00  1  1\n",
       "15291             21        267   1453.00  4  2\n",
       "16404             66         24    131.55  3  1\n",
       "17692            123        164    312.47  2  2"
      ]
     },
     "execution_count": 25,
     "metadata": {},
     "output_type": "execute_result"
    }
   ],
   "source": [
    "# Amostra\n",
    "df_agg.sample(5)"
   ]
  },
  {
   "cell_type": "code",
   "execution_count": 26,
   "id": "c6960b53-fbfa-42cf-a007-d2e09e6a1d70",
   "metadata": {},
   "outputs": [],
   "source": [
    "# Criando labels para Monetary\n",
    "m_labels = range(1, 5)"
   ]
  },
  {
   "cell_type": "code",
   "execution_count": 27,
   "id": "7ec9b1ff-2a61-4c9d-ae3e-b4269ec68ca4",
   "metadata": {},
   "outputs": [],
   "source": [
    "# Atribuindo esses rótulos a 4 grupos de percentis\n",
    "m_groups = pd.qcut(df_agg['Monetary'], q = 4, labels = m_labels)"
   ]
  },
  {
   "cell_type": "code",
   "execution_count": 28,
   "id": "cebf3ecf-57ad-41f5-8044-8a38b3d78dad",
   "metadata": {},
   "outputs": [
    {
     "data": {
      "text/plain": [
       "Monetary\n",
       "1    1481\n",
       "2    1481\n",
       "3    1481\n",
       "4    1481\n",
       "Name: count, dtype: int64"
      ]
     },
     "execution_count": 28,
     "metadata": {},
     "output_type": "execute_result"
    }
   ],
   "source": [
    "m_groups.value_counts()"
   ]
  },
  {
   "cell_type": "code",
   "execution_count": 29,
   "id": "bd53feb2-94ff-465b-9ca5-633f410b9dba",
   "metadata": {},
   "outputs": [],
   "source": [
    "# Cria a nova coluna M\n",
    "df_agg = df_agg.assign(M = m_groups.values)"
   ]
  },
  {
   "cell_type": "code",
   "execution_count": 30,
   "id": "72e39889-4c78-4806-a833-6727ba8f806b",
   "metadata": {},
   "outputs": [
    {
     "data": {
      "text/html": [
       "<div>\n",
       "<style scoped>\n",
       "    .dataframe tbody tr th:only-of-type {\n",
       "        vertical-align: middle;\n",
       "    }\n",
       "\n",
       "    .dataframe tbody tr th {\n",
       "        vertical-align: top;\n",
       "    }\n",
       "\n",
       "    .dataframe thead th {\n",
       "        text-align: right;\n",
       "    }\n",
       "</style>\n",
       "<table border=\"1\" class=\"dataframe\">\n",
       "  <thead>\n",
       "    <tr style=\"text-align: right;\">\n",
       "      <th></th>\n",
       "      <th>Recency</th>\n",
       "      <th>Frequency</th>\n",
       "      <th>Monetary</th>\n",
       "      <th>R</th>\n",
       "      <th>F</th>\n",
       "      <th>M</th>\n",
       "    </tr>\n",
       "    <tr>\n",
       "      <th>Customer ID</th>\n",
       "      <th></th>\n",
       "      <th></th>\n",
       "      <th></th>\n",
       "      <th></th>\n",
       "      <th></th>\n",
       "      <th></th>\n",
       "    </tr>\n",
       "  </thead>\n",
       "  <tbody>\n",
       "    <tr>\n",
       "      <th>12346</th>\n",
       "      <td>321</td>\n",
       "      <td>48</td>\n",
       "      <td>580.44</td>\n",
       "      <td>2</td>\n",
       "      <td>1</td>\n",
       "      <td>4</td>\n",
       "    </tr>\n",
       "    <tr>\n",
       "      <th>12347</th>\n",
       "      <td>35</td>\n",
       "      <td>242</td>\n",
       "      <td>630.62</td>\n",
       "      <td>3</td>\n",
       "      <td>2</td>\n",
       "      <td>4</td>\n",
       "    </tr>\n",
       "    <tr>\n",
       "      <th>12348</th>\n",
       "      <td>71</td>\n",
       "      <td>51</td>\n",
       "      <td>193.10</td>\n",
       "      <td>3</td>\n",
       "      <td>1</td>\n",
       "      <td>3</td>\n",
       "    </tr>\n",
       "    <tr>\n",
       "      <th>12349</th>\n",
       "      <td>14</td>\n",
       "      <td>180</td>\n",
       "      <td>1504.59</td>\n",
       "      <td>4</td>\n",
       "      <td>2</td>\n",
       "      <td>4</td>\n",
       "    </tr>\n",
       "    <tr>\n",
       "      <th>12350</th>\n",
       "      <td>306</td>\n",
       "      <td>17</td>\n",
       "      <td>65.30</td>\n",
       "      <td>2</td>\n",
       "      <td>1</td>\n",
       "      <td>1</td>\n",
       "    </tr>\n",
       "  </tbody>\n",
       "</table>\n",
       "</div>"
      ],
      "text/plain": [
       "             Recency  Frequency  Monetary  R  F  M\n",
       "Customer ID                                       \n",
       "12346            321         48    580.44  2  1  4\n",
       "12347             35        242    630.62  3  2  4\n",
       "12348             71         51    193.10  3  1  3\n",
       "12349             14        180   1504.59  4  2  4\n",
       "12350            306         17     65.30  2  1  1"
      ]
     },
     "execution_count": 30,
     "metadata": {},
     "output_type": "execute_result"
    }
   ],
   "source": [
    "df_agg.head()"
   ]
  },
  {
   "cell_type": "code",
   "execution_count": 31,
   "id": "31223058-1cc2-4880-9158-c325f4bc0816",
   "metadata": {},
   "outputs": [
    {
     "name": "stdout",
     "output_type": "stream",
     "text": [
      "<class 'pandas.core.frame.DataFrame'>\n",
      "Index: 5924 entries, 12346 to 18287\n",
      "Data columns (total 6 columns):\n",
      " #   Column     Non-Null Count  Dtype   \n",
      "---  ------     --------------  -----   \n",
      " 0   Recency    5924 non-null   int64   \n",
      " 1   Frequency  5924 non-null   int64   \n",
      " 2   Monetary   5924 non-null   float64 \n",
      " 3   R          5924 non-null   category\n",
      " 4   F          5924 non-null   int64   \n",
      " 5   M          5924 non-null   category\n",
      "dtypes: category(2), float64(1), int64(3)\n",
      "memory usage: 249.0 KB\n"
     ]
    }
   ],
   "source": [
    "# Observe os tipos de dados\n",
    "df_agg.info()"
   ]
  },
  {
   "cell_type": "markdown",
   "id": "a2b5a6a9-127f-4f6d-8132-322107cda52e",
   "metadata": {},
   "source": [
    "### <font color='blue'>Processamento dos Dados e Label Encoding</font>"
   ]
  },
  {
   "cell_type": "markdown",
   "id": "bd02c61b-798e-404e-b383-d6baf5776c61",
   "metadata": {},
   "source": [
    "R e F foram criados como tipo category. Vamos ajustar isso."
   ]
  },
  {
   "cell_type": "code",
   "execution_count": 32,
   "id": "20726ba6-5584-4764-854a-2e918e5e2e7b",
   "metadata": {},
   "outputs": [],
   "source": [
    "# Cria o codificador\n",
    "# O Label Enconding é utilizado neste caso pois há uma ordem no R e M, a ordem dos quartis, caso fosse apenas convertido para o tipo\n",
    "# int, haveria um risco de perder essa ordem, e com o LabelEncoder() não há perda dessa ordem\n",
    "le = LabelEncoder()"
   ]
  },
  {
   "cell_type": "code",
   "execution_count": 33,
   "id": "47337b4a-1faa-4189-be1d-8de278bde01d",
   "metadata": {},
   "outputs": [],
   "source": [
    "# Transformação de categoria para representação numérica\n",
    "df_agg['R'] = le.fit_transform(df_agg['R']) + 1\n",
    "df_agg['M'] = le.fit_transform(df_agg['M']) + 1"
   ]
  },
  {
   "cell_type": "code",
   "execution_count": 34,
   "id": "250334a5-4881-4e2a-acc4-f2384b3f8b7a",
   "metadata": {},
   "outputs": [
    {
     "name": "stdout",
     "output_type": "stream",
     "text": [
      "<class 'pandas.core.frame.DataFrame'>\n",
      "Index: 5924 entries, 12346 to 18287\n",
      "Data columns (total 6 columns):\n",
      " #   Column     Non-Null Count  Dtype  \n",
      "---  ------     --------------  -----  \n",
      " 0   Recency    5924 non-null   int64  \n",
      " 1   Frequency  5924 non-null   int64  \n",
      " 2   Monetary   5924 non-null   float64\n",
      " 3   R          5924 non-null   int64  \n",
      " 4   F          5924 non-null   int64  \n",
      " 5   M          5924 non-null   int64  \n",
      "dtypes: float64(1), int64(5)\n",
      "memory usage: 329.8 KB\n"
     ]
    }
   ],
   "source": [
    "# Info\n",
    "df_agg.info()"
   ]
  },
  {
   "cell_type": "code",
   "execution_count": 35,
   "id": "30a50555-538e-4557-b926-b88e5162758b",
   "metadata": {},
   "outputs": [
    {
     "data": {
      "text/html": [
       "<div>\n",
       "<style scoped>\n",
       "    .dataframe tbody tr th:only-of-type {\n",
       "        vertical-align: middle;\n",
       "    }\n",
       "\n",
       "    .dataframe tbody tr th {\n",
       "        vertical-align: top;\n",
       "    }\n",
       "\n",
       "    .dataframe thead th {\n",
       "        text-align: right;\n",
       "    }\n",
       "</style>\n",
       "<table border=\"1\" class=\"dataframe\">\n",
       "  <thead>\n",
       "    <tr style=\"text-align: right;\">\n",
       "      <th></th>\n",
       "      <th>Recency</th>\n",
       "      <th>Frequency</th>\n",
       "      <th>Monetary</th>\n",
       "      <th>R</th>\n",
       "      <th>F</th>\n",
       "      <th>M</th>\n",
       "    </tr>\n",
       "    <tr>\n",
       "      <th>Customer ID</th>\n",
       "      <th></th>\n",
       "      <th></th>\n",
       "      <th></th>\n",
       "      <th></th>\n",
       "      <th></th>\n",
       "      <th></th>\n",
       "    </tr>\n",
       "  </thead>\n",
       "  <tbody>\n",
       "    <tr>\n",
       "      <th>12346</th>\n",
       "      <td>321</td>\n",
       "      <td>48</td>\n",
       "      <td>580.44</td>\n",
       "      <td>2</td>\n",
       "      <td>1</td>\n",
       "      <td>4</td>\n",
       "    </tr>\n",
       "    <tr>\n",
       "      <th>12347</th>\n",
       "      <td>35</td>\n",
       "      <td>242</td>\n",
       "      <td>630.62</td>\n",
       "      <td>3</td>\n",
       "      <td>2</td>\n",
       "      <td>4</td>\n",
       "    </tr>\n",
       "    <tr>\n",
       "      <th>12348</th>\n",
       "      <td>71</td>\n",
       "      <td>51</td>\n",
       "      <td>193.10</td>\n",
       "      <td>3</td>\n",
       "      <td>1</td>\n",
       "      <td>3</td>\n",
       "    </tr>\n",
       "    <tr>\n",
       "      <th>12349</th>\n",
       "      <td>14</td>\n",
       "      <td>180</td>\n",
       "      <td>1504.59</td>\n",
       "      <td>4</td>\n",
       "      <td>2</td>\n",
       "      <td>4</td>\n",
       "    </tr>\n",
       "    <tr>\n",
       "      <th>12350</th>\n",
       "      <td>306</td>\n",
       "      <td>17</td>\n",
       "      <td>65.30</td>\n",
       "      <td>2</td>\n",
       "      <td>1</td>\n",
       "      <td>1</td>\n",
       "    </tr>\n",
       "  </tbody>\n",
       "</table>\n",
       "</div>"
      ],
      "text/plain": [
       "             Recency  Frequency  Monetary  R  F  M\n",
       "Customer ID                                       \n",
       "12346            321         48    580.44  2  1  4\n",
       "12347             35        242    630.62  3  2  4\n",
       "12348             71         51    193.10  3  1  3\n",
       "12349             14        180   1504.59  4  2  4\n",
       "12350            306         17     65.30  2  1  1"
      ]
     },
     "execution_count": 35,
     "metadata": {},
     "output_type": "execute_result"
    }
   ],
   "source": [
    "# Amostra\n",
    "df_agg.head()"
   ]
  },
  {
   "cell_type": "markdown",
   "id": "08c41881-03c4-4e1b-a016-2680590004e7",
   "metadata": {},
   "source": [
    "### <font color='blue'>Criação dos Segmentos RFM</font>"
   ]
  },
  {
   "cell_type": "code",
   "execution_count": 36,
   "id": "929a0b87-d45c-4c14-ad2a-2879b554e041",
   "metadata": {},
   "outputs": [],
   "source": [
    "# Cria o RFM Score\n",
    "df_agg['Score_RFM'] = df_agg[['R','F','M']].sum(axis = 1)"
   ]
  },
  {
   "cell_type": "code",
   "execution_count": 37,
   "id": "4ddae605-fdf5-4c78-aea1-1892a53e43fc",
   "metadata": {},
   "outputs": [
    {
     "data": {
      "text/html": [
       "<div>\n",
       "<style scoped>\n",
       "    .dataframe tbody tr th:only-of-type {\n",
       "        vertical-align: middle;\n",
       "    }\n",
       "\n",
       "    .dataframe tbody tr th {\n",
       "        vertical-align: top;\n",
       "    }\n",
       "\n",
       "    .dataframe thead th {\n",
       "        text-align: right;\n",
       "    }\n",
       "</style>\n",
       "<table border=\"1\" class=\"dataframe\">\n",
       "  <thead>\n",
       "    <tr style=\"text-align: right;\">\n",
       "      <th></th>\n",
       "      <th>Recency</th>\n",
       "      <th>Frequency</th>\n",
       "      <th>Monetary</th>\n",
       "      <th>R</th>\n",
       "      <th>F</th>\n",
       "      <th>M</th>\n",
       "      <th>Score_RFM</th>\n",
       "    </tr>\n",
       "    <tr>\n",
       "      <th>Customer ID</th>\n",
       "      <th></th>\n",
       "      <th></th>\n",
       "      <th></th>\n",
       "      <th></th>\n",
       "      <th></th>\n",
       "      <th></th>\n",
       "      <th></th>\n",
       "    </tr>\n",
       "  </thead>\n",
       "  <tbody>\n",
       "    <tr>\n",
       "      <th>12346</th>\n",
       "      <td>321</td>\n",
       "      <td>48</td>\n",
       "      <td>580.44</td>\n",
       "      <td>2</td>\n",
       "      <td>1</td>\n",
       "      <td>4</td>\n",
       "      <td>7</td>\n",
       "    </tr>\n",
       "    <tr>\n",
       "      <th>12347</th>\n",
       "      <td>35</td>\n",
       "      <td>242</td>\n",
       "      <td>630.62</td>\n",
       "      <td>3</td>\n",
       "      <td>2</td>\n",
       "      <td>4</td>\n",
       "      <td>9</td>\n",
       "    </tr>\n",
       "    <tr>\n",
       "      <th>12348</th>\n",
       "      <td>71</td>\n",
       "      <td>51</td>\n",
       "      <td>193.10</td>\n",
       "      <td>3</td>\n",
       "      <td>1</td>\n",
       "      <td>3</td>\n",
       "      <td>7</td>\n",
       "    </tr>\n",
       "    <tr>\n",
       "      <th>12349</th>\n",
       "      <td>14</td>\n",
       "      <td>180</td>\n",
       "      <td>1504.59</td>\n",
       "      <td>4</td>\n",
       "      <td>2</td>\n",
       "      <td>4</td>\n",
       "      <td>10</td>\n",
       "    </tr>\n",
       "    <tr>\n",
       "      <th>12350</th>\n",
       "      <td>306</td>\n",
       "      <td>17</td>\n",
       "      <td>65.30</td>\n",
       "      <td>2</td>\n",
       "      <td>1</td>\n",
       "      <td>1</td>\n",
       "      <td>4</td>\n",
       "    </tr>\n",
       "  </tbody>\n",
       "</table>\n",
       "</div>"
      ],
      "text/plain": [
       "             Recency  Frequency  Monetary  R  F  M  Score_RFM\n",
       "Customer ID                                                  \n",
       "12346            321         48    580.44  2  1  4          7\n",
       "12347             35        242    630.62  3  2  4          9\n",
       "12348             71         51    193.10  3  1  3          7\n",
       "12349             14        180   1504.59  4  2  4         10\n",
       "12350            306         17     65.30  2  1  1          4"
      ]
     },
     "execution_count": 37,
     "metadata": {},
     "output_type": "execute_result"
    }
   ],
   "source": [
    "df_agg.head()"
   ]
  },
  {
   "cell_type": "code",
   "execution_count": 38,
   "id": "abdb255a-b96d-407e-a495-f57f28580b75",
   "metadata": {},
   "outputs": [],
   "source": [
    "# Concatenar valores de RFM para criar segmentos de RFM\n",
    "def join_rfm(x):\n",
    "    return str(x['R']) + str(x['R']) + str(x['M'])"
   ]
  },
  {
   "cell_type": "code",
   "execution_count": 39,
   "id": "67350656-2315-41ce-b0a4-97fcce8c7623",
   "metadata": {},
   "outputs": [],
   "source": [
    "# Aplicar a função\n",
    "df_agg['Segmento_RFM'] = df_agg.apply(join_rfm, axis = 1)"
   ]
  },
  {
   "cell_type": "code",
   "execution_count": 40,
   "id": "741f5f4b-4b39-4eb0-b35a-c364560273ea",
   "metadata": {},
   "outputs": [
    {
     "data": {
      "text/html": [
       "<div>\n",
       "<style scoped>\n",
       "    .dataframe tbody tr th:only-of-type {\n",
       "        vertical-align: middle;\n",
       "    }\n",
       "\n",
       "    .dataframe tbody tr th {\n",
       "        vertical-align: top;\n",
       "    }\n",
       "\n",
       "    .dataframe thead th {\n",
       "        text-align: right;\n",
       "    }\n",
       "</style>\n",
       "<table border=\"1\" class=\"dataframe\">\n",
       "  <thead>\n",
       "    <tr style=\"text-align: right;\">\n",
       "      <th></th>\n",
       "      <th>Recency</th>\n",
       "      <th>Frequency</th>\n",
       "      <th>Monetary</th>\n",
       "      <th>R</th>\n",
       "      <th>F</th>\n",
       "      <th>M</th>\n",
       "      <th>Score_RFM</th>\n",
       "      <th>Segmento_RFM</th>\n",
       "    </tr>\n",
       "    <tr>\n",
       "      <th>Customer ID</th>\n",
       "      <th></th>\n",
       "      <th></th>\n",
       "      <th></th>\n",
       "      <th></th>\n",
       "      <th></th>\n",
       "      <th></th>\n",
       "      <th></th>\n",
       "      <th></th>\n",
       "    </tr>\n",
       "  </thead>\n",
       "  <tbody>\n",
       "    <tr>\n",
       "      <th>12346</th>\n",
       "      <td>321</td>\n",
       "      <td>48</td>\n",
       "      <td>580.44</td>\n",
       "      <td>2</td>\n",
       "      <td>1</td>\n",
       "      <td>4</td>\n",
       "      <td>7</td>\n",
       "      <td>2.02.04.0</td>\n",
       "    </tr>\n",
       "    <tr>\n",
       "      <th>12347</th>\n",
       "      <td>35</td>\n",
       "      <td>242</td>\n",
       "      <td>630.62</td>\n",
       "      <td>3</td>\n",
       "      <td>2</td>\n",
       "      <td>4</td>\n",
       "      <td>9</td>\n",
       "      <td>3.03.04.0</td>\n",
       "    </tr>\n",
       "    <tr>\n",
       "      <th>12348</th>\n",
       "      <td>71</td>\n",
       "      <td>51</td>\n",
       "      <td>193.10</td>\n",
       "      <td>3</td>\n",
       "      <td>1</td>\n",
       "      <td>3</td>\n",
       "      <td>7</td>\n",
       "      <td>3.03.03.0</td>\n",
       "    </tr>\n",
       "    <tr>\n",
       "      <th>12349</th>\n",
       "      <td>14</td>\n",
       "      <td>180</td>\n",
       "      <td>1504.59</td>\n",
       "      <td>4</td>\n",
       "      <td>2</td>\n",
       "      <td>4</td>\n",
       "      <td>10</td>\n",
       "      <td>4.04.04.0</td>\n",
       "    </tr>\n",
       "    <tr>\n",
       "      <th>12350</th>\n",
       "      <td>306</td>\n",
       "      <td>17</td>\n",
       "      <td>65.30</td>\n",
       "      <td>2</td>\n",
       "      <td>1</td>\n",
       "      <td>1</td>\n",
       "      <td>4</td>\n",
       "      <td>2.02.01.0</td>\n",
       "    </tr>\n",
       "  </tbody>\n",
       "</table>\n",
       "</div>"
      ],
      "text/plain": [
       "             Recency  Frequency  Monetary  R  F  M  Score_RFM Segmento_RFM\n",
       "Customer ID                                                               \n",
       "12346            321         48    580.44  2  1  4          7    2.02.04.0\n",
       "12347             35        242    630.62  3  2  4          9    3.03.04.0\n",
       "12348             71         51    193.10  3  1  3          7    3.03.03.0\n",
       "12349             14        180   1504.59  4  2  4         10    4.04.04.0\n",
       "12350            306         17     65.30  2  1  1          4    2.02.01.0"
      ]
     },
     "execution_count": 40,
     "metadata": {},
     "output_type": "execute_result"
    }
   ],
   "source": [
    "# Visualizar\n",
    "df_agg.head()"
   ]
  },
  {
   "cell_type": "code",
   "execution_count": 41,
   "id": "d25922ab-a110-4185-ba01-0919a77f1e54",
   "metadata": {},
   "outputs": [],
   "source": [
    "# Aplicar a função novamente\n",
    "df_agg['Segmento_RFM'] = df_agg.apply(join_rfm, axis = 1)"
   ]
  },
  {
   "cell_type": "code",
   "execution_count": 42,
   "id": "7600acd7-5cac-4a4d-b7b5-c852331f2ae4",
   "metadata": {},
   "outputs": [
    {
     "data": {
      "text/html": [
       "<div>\n",
       "<style scoped>\n",
       "    .dataframe tbody tr th:only-of-type {\n",
       "        vertical-align: middle;\n",
       "    }\n",
       "\n",
       "    .dataframe tbody tr th {\n",
       "        vertical-align: top;\n",
       "    }\n",
       "\n",
       "    .dataframe thead th {\n",
       "        text-align: right;\n",
       "    }\n",
       "</style>\n",
       "<table border=\"1\" class=\"dataframe\">\n",
       "  <thead>\n",
       "    <tr style=\"text-align: right;\">\n",
       "      <th></th>\n",
       "      <th>Recency</th>\n",
       "      <th>Frequency</th>\n",
       "      <th>Monetary</th>\n",
       "      <th>R</th>\n",
       "      <th>F</th>\n",
       "      <th>M</th>\n",
       "      <th>Score_RFM</th>\n",
       "      <th>Segmento_RFM</th>\n",
       "    </tr>\n",
       "    <tr>\n",
       "      <th>Customer ID</th>\n",
       "      <th></th>\n",
       "      <th></th>\n",
       "      <th></th>\n",
       "      <th></th>\n",
       "      <th></th>\n",
       "      <th></th>\n",
       "      <th></th>\n",
       "      <th></th>\n",
       "    </tr>\n",
       "  </thead>\n",
       "  <tbody>\n",
       "    <tr>\n",
       "      <th>12346</th>\n",
       "      <td>321</td>\n",
       "      <td>48</td>\n",
       "      <td>580.44</td>\n",
       "      <td>2</td>\n",
       "      <td>1</td>\n",
       "      <td>4</td>\n",
       "      <td>7</td>\n",
       "      <td>224</td>\n",
       "    </tr>\n",
       "    <tr>\n",
       "      <th>12347</th>\n",
       "      <td>35</td>\n",
       "      <td>242</td>\n",
       "      <td>630.62</td>\n",
       "      <td>3</td>\n",
       "      <td>2</td>\n",
       "      <td>4</td>\n",
       "      <td>9</td>\n",
       "      <td>334</td>\n",
       "    </tr>\n",
       "    <tr>\n",
       "      <th>12348</th>\n",
       "      <td>71</td>\n",
       "      <td>51</td>\n",
       "      <td>193.10</td>\n",
       "      <td>3</td>\n",
       "      <td>1</td>\n",
       "      <td>3</td>\n",
       "      <td>7</td>\n",
       "      <td>333</td>\n",
       "    </tr>\n",
       "    <tr>\n",
       "      <th>12349</th>\n",
       "      <td>14</td>\n",
       "      <td>180</td>\n",
       "      <td>1504.59</td>\n",
       "      <td>4</td>\n",
       "      <td>2</td>\n",
       "      <td>4</td>\n",
       "      <td>10</td>\n",
       "      <td>444</td>\n",
       "    </tr>\n",
       "    <tr>\n",
       "      <th>12350</th>\n",
       "      <td>306</td>\n",
       "      <td>17</td>\n",
       "      <td>65.30</td>\n",
       "      <td>2</td>\n",
       "      <td>1</td>\n",
       "      <td>1</td>\n",
       "      <td>4</td>\n",
       "      <td>221</td>\n",
       "    </tr>\n",
       "  </tbody>\n",
       "</table>\n",
       "</div>"
      ],
      "text/plain": [
       "             Recency  Frequency  Monetary  R  F  M  Score_RFM Segmento_RFM\n",
       "Customer ID                                                               \n",
       "12346            321         48    580.44  2  1  4          7          224\n",
       "12347             35        242    630.62  3  2  4          9          334\n",
       "12348             71         51    193.10  3  1  3          7          333\n",
       "12349             14        180   1504.59  4  2  4         10          444\n",
       "12350            306         17     65.30  2  1  1          4          221"
      ]
     },
     "execution_count": 42,
     "metadata": {},
     "output_type": "execute_result"
    }
   ],
   "source": [
    "# Visualiza\n",
    "df_agg.head()"
   ]
  },
  {
   "cell_type": "code",
   "execution_count": 43,
   "id": "fb62d84a-1643-4bc8-8d0d-63128d5bf7ac",
   "metadata": {},
   "outputs": [],
   "source": [
    "# Contamos o número de segmentos únicos\n",
    "rfm_count_unique = df_agg.groupby('Segmento_RFM')['Segmento_RFM'].nunique()"
   ]
  },
  {
   "cell_type": "code",
   "execution_count": 44,
   "id": "9930f338-7cc7-4d81-9775-b733efa73df3",
   "metadata": {},
   "outputs": [
    {
     "name": "stdout",
     "output_type": "stream",
     "text": [
      "16\n"
     ]
    }
   ],
   "source": [
    "print(rfm_count_unique.sum())"
   ]
  },
  {
   "cell_type": "code",
   "execution_count": 45,
   "id": "8660b964-fcea-42f7-ae93-5b5927f1bf9b",
   "metadata": {},
   "outputs": [],
   "source": [
    "# Criamos uma cópia do dataframe\n",
    "rfm = df_agg"
   ]
  },
  {
   "cell_type": "code",
   "execution_count": 46,
   "id": "4cfb961d-f868-4fd1-a588-96d8b638eebe",
   "metadata": {},
   "outputs": [
    {
     "name": "stdout",
     "output_type": "stream",
     "text": [
      "<class 'pandas.core.frame.DataFrame'>\n",
      "Index: 5924 entries, 12346 to 18287\n",
      "Data columns (total 8 columns):\n",
      " #   Column        Non-Null Count  Dtype  \n",
      "---  ------        --------------  -----  \n",
      " 0   Recency       5924 non-null   int64  \n",
      " 1   Frequency     5924 non-null   int64  \n",
      " 2   Monetary      5924 non-null   float64\n",
      " 3   R             5924 non-null   int64  \n",
      " 4   F             5924 non-null   int64  \n",
      " 5   M             5924 non-null   int64  \n",
      " 6   Score_RFM     5924 non-null   int64  \n",
      " 7   Segmento_RFM  5924 non-null   object \n",
      "dtypes: float64(1), int64(6), object(1)\n",
      "memory usage: 422.3+ KB\n"
     ]
    }
   ],
   "source": [
    "# Info\n",
    "rfm.info()"
   ]
  },
  {
   "cell_type": "code",
   "execution_count": 47,
   "id": "2eb27dbd-2978-4828-a88c-72a815ed8dee",
   "metadata": {},
   "outputs": [],
   "source": [
    "# Ajusta o tipo de dado\n",
    "rfm['Segmento_RFM'] = rfm['Segmento_RFM'].astype(str).astype(int)"
   ]
  },
  {
   "cell_type": "code",
   "execution_count": 48,
   "id": "5635f297-c412-452d-9977-ece0bd5b322c",
   "metadata": {},
   "outputs": [
    {
     "name": "stdout",
     "output_type": "stream",
     "text": [
      "<class 'pandas.core.frame.DataFrame'>\n",
      "Index: 5924 entries, 12346 to 18287\n",
      "Data columns (total 8 columns):\n",
      " #   Column        Non-Null Count  Dtype  \n",
      "---  ------        --------------  -----  \n",
      " 0   Recency       5924 non-null   int64  \n",
      " 1   Frequency     5924 non-null   int64  \n",
      " 2   Monetary      5924 non-null   float64\n",
      " 3   R             5924 non-null   int64  \n",
      " 4   F             5924 non-null   int64  \n",
      " 5   M             5924 non-null   int64  \n",
      " 6   Score_RFM     5924 non-null   int64  \n",
      " 7   Segmento_RFM  5924 non-null   int32  \n",
      "dtypes: float64(1), int32(1), int64(6)\n",
      "memory usage: 399.2 KB\n"
     ]
    }
   ],
   "source": [
    "# Info\n",
    "rfm.info()"
   ]
  },
  {
   "cell_type": "markdown",
   "id": "69160a85-28c6-49e6-b229-a525b8141c8c",
   "metadata": {},
   "source": [
    "### <font color='blue'>Segmentação de Clientes Usando Análise RFM</font>"
   ]
  },
  {
   "cell_type": "code",
   "execution_count": 49,
   "id": "e2736e06-17cc-42db-8aed-8837b7840236",
   "metadata": {},
   "outputs": [
    {
     "data": {
      "text/html": [
       "<div>\n",
       "<style scoped>\n",
       "    .dataframe tbody tr th:only-of-type {\n",
       "        vertical-align: middle;\n",
       "    }\n",
       "\n",
       "    .dataframe tbody tr th {\n",
       "        vertical-align: top;\n",
       "    }\n",
       "\n",
       "    .dataframe thead th {\n",
       "        text-align: right;\n",
       "    }\n",
       "</style>\n",
       "<table border=\"1\" class=\"dataframe\">\n",
       "  <thead>\n",
       "    <tr style=\"text-align: right;\">\n",
       "      <th></th>\n",
       "      <th>Recency</th>\n",
       "      <th>Frequency</th>\n",
       "      <th>Monetary</th>\n",
       "      <th>R</th>\n",
       "      <th>F</th>\n",
       "      <th>M</th>\n",
       "      <th>Score_RFM</th>\n",
       "      <th>Segmento_RFM</th>\n",
       "    </tr>\n",
       "  </thead>\n",
       "  <tbody>\n",
       "    <tr>\n",
       "      <th>count</th>\n",
       "      <td>5924.000000</td>\n",
       "      <td>5924.000000</td>\n",
       "      <td>5924.000000</td>\n",
       "      <td>5924.000000</td>\n",
       "      <td>5924.000000</td>\n",
       "      <td>5924.000000</td>\n",
       "      <td>5924.000000</td>\n",
       "      <td>5924.000000</td>\n",
       "    </tr>\n",
       "    <tr>\n",
       "      <th>mean</th>\n",
       "      <td>203.204423</td>\n",
       "      <td>137.051485</td>\n",
       "      <td>505.708190</td>\n",
       "      <td>2.504558</td>\n",
       "      <td>1.503376</td>\n",
       "      <td>2.500000</td>\n",
       "      <td>6.507934</td>\n",
       "      <td>278.001350</td>\n",
       "    </tr>\n",
       "    <tr>\n",
       "      <th>std</th>\n",
       "      <td>209.969693</td>\n",
       "      <td>352.556699</td>\n",
       "      <td>1889.299083</td>\n",
       "      <td>1.117213</td>\n",
       "      <td>0.500031</td>\n",
       "      <td>1.118128</td>\n",
       "      <td>2.269107</td>\n",
       "      <td>123.368834</td>\n",
       "    </tr>\n",
       "    <tr>\n",
       "      <th>min</th>\n",
       "      <td>1.000000</td>\n",
       "      <td>1.000000</td>\n",
       "      <td>0.000000</td>\n",
       "      <td>1.000000</td>\n",
       "      <td>1.000000</td>\n",
       "      <td>1.000000</td>\n",
       "      <td>3.000000</td>\n",
       "      <td>111.000000</td>\n",
       "    </tr>\n",
       "    <tr>\n",
       "      <th>25%</th>\n",
       "      <td>25.000000</td>\n",
       "      <td>20.000000</td>\n",
       "      <td>66.297500</td>\n",
       "      <td>2.000000</td>\n",
       "      <td>1.000000</td>\n",
       "      <td>1.750000</td>\n",
       "      <td>5.000000</td>\n",
       "      <td>221.000000</td>\n",
       "    </tr>\n",
       "    <tr>\n",
       "      <th>50%</th>\n",
       "      <td>103.000000</td>\n",
       "      <td>53.000000</td>\n",
       "      <td>173.280000</td>\n",
       "      <td>3.000000</td>\n",
       "      <td>2.000000</td>\n",
       "      <td>2.500000</td>\n",
       "      <td>6.000000</td>\n",
       "      <td>331.000000</td>\n",
       "    </tr>\n",
       "    <tr>\n",
       "      <th>75%</th>\n",
       "      <td>378.000000</td>\n",
       "      <td>143.000000</td>\n",
       "      <td>461.180000</td>\n",
       "      <td>4.000000</td>\n",
       "      <td>2.000000</td>\n",
       "      <td>3.250000</td>\n",
       "      <td>9.000000</td>\n",
       "      <td>441.000000</td>\n",
       "    </tr>\n",
       "    <tr>\n",
       "      <th>max</th>\n",
       "      <td>734.000000</td>\n",
       "      <td>12780.000000</td>\n",
       "      <td>70424.290000</td>\n",
       "      <td>4.000000</td>\n",
       "      <td>2.000000</td>\n",
       "      <td>4.000000</td>\n",
       "      <td>10.000000</td>\n",
       "      <td>444.000000</td>\n",
       "    </tr>\n",
       "  </tbody>\n",
       "</table>\n",
       "</div>"
      ],
      "text/plain": [
       "           Recency     Frequency      Monetary            R            F  \\\n",
       "count  5924.000000   5924.000000   5924.000000  5924.000000  5924.000000   \n",
       "mean    203.204423    137.051485    505.708190     2.504558     1.503376   \n",
       "std     209.969693    352.556699   1889.299083     1.117213     0.500031   \n",
       "min       1.000000      1.000000      0.000000     1.000000     1.000000   \n",
       "25%      25.000000     20.000000     66.297500     2.000000     1.000000   \n",
       "50%     103.000000     53.000000    173.280000     3.000000     2.000000   \n",
       "75%     378.000000    143.000000    461.180000     4.000000     2.000000   \n",
       "max     734.000000  12780.000000  70424.290000     4.000000     2.000000   \n",
       "\n",
       "                 M    Score_RFM  Segmento_RFM  \n",
       "count  5924.000000  5924.000000   5924.000000  \n",
       "mean      2.500000     6.507934    278.001350  \n",
       "std       1.118128     2.269107    123.368834  \n",
       "min       1.000000     3.000000    111.000000  \n",
       "25%       1.750000     5.000000    221.000000  \n",
       "50%       2.500000     6.000000    331.000000  \n",
       "75%       3.250000     9.000000    441.000000  \n",
       "max       4.000000    10.000000    444.000000  "
      ]
     },
     "execution_count": 49,
     "metadata": {},
     "output_type": "execute_result"
    }
   ],
   "source": [
    "# Describe\n",
    "rfm.describe()"
   ]
  },
  {
   "cell_type": "code",
   "execution_count": 50,
   "id": "48a75e73-b5a7-43ea-9f87-7779f050eaca",
   "metadata": {},
   "outputs": [],
   "source": [
    "# Função para criar os níveis RFM\n",
    "def rfm_level(df):\n",
    "    \n",
    "    if (df['Segmento_RFM'] >= 444 | (df['Score_RFM'] >= 9)) :\n",
    "        return 'Clientes VIP'\n",
    "    \n",
    "    elif ((df['Score_RFM'] >= 8) & (df['M'] == 4)):\n",
    "        return 'Clientes Leais Que Compram com Frequência'\n",
    "    \n",
    "    elif ((df['Score_RFM'] >= 6) & (df['F'] >= 2)):\n",
    "        return 'Clientes Leais'\n",
    "    \n",
    "    elif ((df['Score_RFM'] <= 4) & (df['R'] == 1)):\n",
    "        return 'Clientes Quase Perdidos'\n",
    "    \n",
    "    elif ((df['Segmento_RFM'] >= 231) | (df['Score_RFM'] >= 6)):\n",
    "        return 'Potenciais Clientes Leais'\n",
    "    \n",
    "    elif ((df['Segmento_RFM'] >= 121) & (df['R'] == 1) | (df['Score_RFM'] == 5)):\n",
    "        return 'Clientes Que Precisam de Atenção'\n",
    "    \n",
    "    else:\n",
    "        return 'Clientes Perdidos'"
   ]
  },
  {
   "cell_type": "code",
   "execution_count": 51,
   "id": "b42c4bce-bf51-404f-86de-10c9f4c4a4ea",
   "metadata": {},
   "outputs": [],
   "source": [
    "# Função para as ações RFM\n",
    "def rfm_action(df):\n",
    "    \n",
    "    if (df['Segmento_RFM'] >= 444 | (df['Score_RFM'] >= 9)) :\n",
    "        return 'Incentivos não relacionados a preços; Oferecer edição limitada e programas de fidelidade'\n",
    "    \n",
    "    elif ((df['Score_RFM'] >= 8) & (df['M'] == 4)):\n",
    "        return 'Oferecer itens mais caros (Upsell)'\n",
    "    \n",
    "    elif ((df['Score_RFM'] >= 6) & (df['F'] >= 2)):\n",
    "        return 'Oferecer programas de fidelidade e venda cruzada (Cross-Sell)'\n",
    "    \n",
    "    elif ((df['Score_RFM'] <= 4) & (df['R'] == 1)):\n",
    "        return 'Oferecer Incentivos de preços agressivos'\n",
    "    \n",
    "    elif ((df['Segmento_RFM'] >= 231) | (df['Score_RFM'] >= 6)):\n",
    "        return 'Recomendações de venda cruzada e cupons de desconto'\n",
    "    \n",
    "    elif (((df['Segmento_RFM'] >= 121) & (df['R'] == 1)) | (df['Score_RFM'] == 5)):\n",
    "        return 'Incentivos de preço e oferta por tempo limitado'\n",
    "    \n",
    "    else:\n",
    "        return 'Não gaste muito tentando readquirir esse cliente'"
   ]
  },
  {
   "cell_type": "code",
   "execution_count": 52,
   "id": "82f1ec4d-a1e1-4e21-85fe-8116fe9697c0",
   "metadata": {},
   "outputs": [],
   "source": [
    "# Aplica a função e cria nova variável 'Segmento de Cliente'\n",
    "rfm['Segmento de Cliente'] = rfm.apply(rfm_level, axis = 1)"
   ]
  },
  {
   "cell_type": "code",
   "execution_count": 53,
   "id": "74aa3914-7fad-4375-abf5-481e8c82ae92",
   "metadata": {},
   "outputs": [],
   "source": [
    "# Aplica a função e cria uma nova variável 'Marketing Action'\n",
    "rfm['Marketing Action'] = rfm.apply(rfm_action, axis = 1)"
   ]
  },
  {
   "cell_type": "code",
   "execution_count": 54,
   "id": "f81cdd57-4470-4671-8cf4-2a57d8f02bc3",
   "metadata": {},
   "outputs": [],
   "source": [
    "# Define a largura máxima da coluna para 500 caracteres\n",
    "pd.set_option('display.max_colwidth', 500) "
   ]
  },
  {
   "cell_type": "code",
   "execution_count": 55,
   "id": "00dcfed4-6c05-4a9b-b57f-8bf02ac8ed38",
   "metadata": {},
   "outputs": [
    {
     "data": {
      "text/html": [
       "<div>\n",
       "<style scoped>\n",
       "    .dataframe tbody tr th:only-of-type {\n",
       "        vertical-align: middle;\n",
       "    }\n",
       "\n",
       "    .dataframe tbody tr th {\n",
       "        vertical-align: top;\n",
       "    }\n",
       "\n",
       "    .dataframe thead th {\n",
       "        text-align: right;\n",
       "    }\n",
       "</style>\n",
       "<table border=\"1\" class=\"dataframe\">\n",
       "  <thead>\n",
       "    <tr style=\"text-align: right;\">\n",
       "      <th></th>\n",
       "      <th>Recency</th>\n",
       "      <th>Frequency</th>\n",
       "      <th>Monetary</th>\n",
       "      <th>R</th>\n",
       "      <th>F</th>\n",
       "      <th>M</th>\n",
       "      <th>Score_RFM</th>\n",
       "      <th>Segmento_RFM</th>\n",
       "      <th>Segmento de Cliente</th>\n",
       "      <th>Marketing Action</th>\n",
       "    </tr>\n",
       "    <tr>\n",
       "      <th>Customer ID</th>\n",
       "      <th></th>\n",
       "      <th></th>\n",
       "      <th></th>\n",
       "      <th></th>\n",
       "      <th></th>\n",
       "      <th></th>\n",
       "      <th></th>\n",
       "      <th></th>\n",
       "      <th></th>\n",
       "      <th></th>\n",
       "    </tr>\n",
       "  </thead>\n",
       "  <tbody>\n",
       "    <tr>\n",
       "      <th>12346</th>\n",
       "      <td>321</td>\n",
       "      <td>48</td>\n",
       "      <td>580.44</td>\n",
       "      <td>2</td>\n",
       "      <td>1</td>\n",
       "      <td>4</td>\n",
       "      <td>7</td>\n",
       "      <td>224</td>\n",
       "      <td>Potenciais Clientes Leais</td>\n",
       "      <td>Recomendações de venda cruzada e cupons de desconto</td>\n",
       "    </tr>\n",
       "    <tr>\n",
       "      <th>12347</th>\n",
       "      <td>35</td>\n",
       "      <td>242</td>\n",
       "      <td>630.62</td>\n",
       "      <td>3</td>\n",
       "      <td>2</td>\n",
       "      <td>4</td>\n",
       "      <td>9</td>\n",
       "      <td>334</td>\n",
       "      <td>Clientes Leais Que Compram com Frequência</td>\n",
       "      <td>Oferecer itens mais caros (Upsell)</td>\n",
       "    </tr>\n",
       "    <tr>\n",
       "      <th>12348</th>\n",
       "      <td>71</td>\n",
       "      <td>51</td>\n",
       "      <td>193.10</td>\n",
       "      <td>3</td>\n",
       "      <td>1</td>\n",
       "      <td>3</td>\n",
       "      <td>7</td>\n",
       "      <td>333</td>\n",
       "      <td>Potenciais Clientes Leais</td>\n",
       "      <td>Recomendações de venda cruzada e cupons de desconto</td>\n",
       "    </tr>\n",
       "    <tr>\n",
       "      <th>12349</th>\n",
       "      <td>14</td>\n",
       "      <td>180</td>\n",
       "      <td>1504.59</td>\n",
       "      <td>4</td>\n",
       "      <td>2</td>\n",
       "      <td>4</td>\n",
       "      <td>10</td>\n",
       "      <td>444</td>\n",
       "      <td>Clientes Leais Que Compram com Frequência</td>\n",
       "      <td>Oferecer itens mais caros (Upsell)</td>\n",
       "    </tr>\n",
       "    <tr>\n",
       "      <th>12350</th>\n",
       "      <td>306</td>\n",
       "      <td>17</td>\n",
       "      <td>65.30</td>\n",
       "      <td>2</td>\n",
       "      <td>1</td>\n",
       "      <td>1</td>\n",
       "      <td>4</td>\n",
       "      <td>221</td>\n",
       "      <td>Clientes Perdidos</td>\n",
       "      <td>Não gaste muito tentando readquirir esse cliente</td>\n",
       "    </tr>\n",
       "    <tr>\n",
       "      <th>12351</th>\n",
       "      <td>371</td>\n",
       "      <td>21</td>\n",
       "      <td>49.46</td>\n",
       "      <td>2</td>\n",
       "      <td>1</td>\n",
       "      <td>1</td>\n",
       "      <td>4</td>\n",
       "      <td>221</td>\n",
       "      <td>Clientes Perdidos</td>\n",
       "      <td>Não gaste muito tentando readquirir esse cliente</td>\n",
       "    </tr>\n",
       "    <tr>\n",
       "      <th>12352</th>\n",
       "      <td>32</td>\n",
       "      <td>113</td>\n",
       "      <td>2265.70</td>\n",
       "      <td>3</td>\n",
       "      <td>2</td>\n",
       "      <td>4</td>\n",
       "      <td>9</td>\n",
       "      <td>334</td>\n",
       "      <td>Clientes Leais Que Compram com Frequência</td>\n",
       "      <td>Oferecer itens mais caros (Upsell)</td>\n",
       "    </tr>\n",
       "    <tr>\n",
       "      <th>12353</th>\n",
       "      <td>200</td>\n",
       "      <td>24</td>\n",
       "      <td>63.08</td>\n",
       "      <td>2</td>\n",
       "      <td>1</td>\n",
       "      <td>1</td>\n",
       "      <td>4</td>\n",
       "      <td>221</td>\n",
       "      <td>Clientes Perdidos</td>\n",
       "      <td>Não gaste muito tentando readquirir esse cliente</td>\n",
       "    </tr>\n",
       "    <tr>\n",
       "      <th>12354</th>\n",
       "      <td>228</td>\n",
       "      <td>58</td>\n",
       "      <td>261.22</td>\n",
       "      <td>2</td>\n",
       "      <td>2</td>\n",
       "      <td>3</td>\n",
       "      <td>7</td>\n",
       "      <td>223</td>\n",
       "      <td>Clientes Leais</td>\n",
       "      <td>Oferecer programas de fidelidade e venda cruzada (Cross-Sell)</td>\n",
       "    </tr>\n",
       "    <tr>\n",
       "      <th>12355</th>\n",
       "      <td>210</td>\n",
       "      <td>35</td>\n",
       "      <td>107.43</td>\n",
       "      <td>2</td>\n",
       "      <td>1</td>\n",
       "      <td>2</td>\n",
       "      <td>5</td>\n",
       "      <td>222</td>\n",
       "      <td>Clientes Que Precisam de Atenção</td>\n",
       "      <td>Incentivos de preço e oferta por tempo limitado</td>\n",
       "    </tr>\n",
       "  </tbody>\n",
       "</table>\n",
       "</div>"
      ],
      "text/plain": [
       "             Recency  Frequency  Monetary  R  F  M  Score_RFM  Segmento_RFM  \\\n",
       "Customer ID                                                                   \n",
       "12346            321         48    580.44  2  1  4          7           224   \n",
       "12347             35        242    630.62  3  2  4          9           334   \n",
       "12348             71         51    193.10  3  1  3          7           333   \n",
       "12349             14        180   1504.59  4  2  4         10           444   \n",
       "12350            306         17     65.30  2  1  1          4           221   \n",
       "12351            371         21     49.46  2  1  1          4           221   \n",
       "12352             32        113   2265.70  3  2  4          9           334   \n",
       "12353            200         24     63.08  2  1  1          4           221   \n",
       "12354            228         58    261.22  2  2  3          7           223   \n",
       "12355            210         35    107.43  2  1  2          5           222   \n",
       "\n",
       "                                   Segmento de Cliente  \\\n",
       "Customer ID                                              \n",
       "12346                        Potenciais Clientes Leais   \n",
       "12347        Clientes Leais Que Compram com Frequência   \n",
       "12348                        Potenciais Clientes Leais   \n",
       "12349        Clientes Leais Que Compram com Frequência   \n",
       "12350                                Clientes Perdidos   \n",
       "12351                                Clientes Perdidos   \n",
       "12352        Clientes Leais Que Compram com Frequência   \n",
       "12353                                Clientes Perdidos   \n",
       "12354                                   Clientes Leais   \n",
       "12355                 Clientes Que Precisam de Atenção   \n",
       "\n",
       "                                                          Marketing Action  \n",
       "Customer ID                                                                 \n",
       "12346                  Recomendações de venda cruzada e cupons de desconto  \n",
       "12347                                   Oferecer itens mais caros (Upsell)  \n",
       "12348                  Recomendações de venda cruzada e cupons de desconto  \n",
       "12349                                   Oferecer itens mais caros (Upsell)  \n",
       "12350                     Não gaste muito tentando readquirir esse cliente  \n",
       "12351                     Não gaste muito tentando readquirir esse cliente  \n",
       "12352                                   Oferecer itens mais caros (Upsell)  \n",
       "12353                     Não gaste muito tentando readquirir esse cliente  \n",
       "12354        Oferecer programas de fidelidade e venda cruzada (Cross-Sell)  \n",
       "12355                      Incentivos de preço e oferta por tempo limitado  "
      ]
     },
     "execution_count": 55,
     "metadata": {},
     "output_type": "execute_result"
    }
   ],
   "source": [
    "# Visualiza\n",
    "rfm.head(10)"
   ]
  },
  {
   "cell_type": "code",
   "execution_count": 56,
   "id": "fdfbbd69-3dc8-4be3-b647-877a034eab56",
   "metadata": {},
   "outputs": [
    {
     "data": {
      "text/plain": [
       "Segmento de Cliente\n",
       "Clientes Leais                               1555\n",
       "Clientes Leais Que Compram com Frequência    1372\n",
       "Clientes Quase Perdidos                      1094\n",
       "Potenciais Clientes Leais                    1061\n",
       "Clientes Que Precisam de Atenção              467\n",
       "Clientes Perdidos                             375\n",
       "Name: count, dtype: int64"
      ]
     },
     "execution_count": 56,
     "metadata": {},
     "output_type": "execute_result"
    }
   ],
   "source": [
    "# Total de registros por segmento de cliente\n",
    "rfm['Segmento de Cliente'].value_counts()"
   ]
  },
  {
   "cell_type": "code",
   "execution_count": 57,
   "id": "81783148-50b3-4ed1-85f2-24d257a03061",
   "metadata": {},
   "outputs": [],
   "source": [
    "# Salva os dados em disco\n",
    "rfm.to_csv(\"rfm.csv\")"
   ]
  },
  {
   "cell_type": "code",
   "execution_count": 58,
   "id": "4bd947c9-0159-45a8-b111-4f267a2f27b5",
   "metadata": {},
   "outputs": [],
   "source": [
    "# Calcula os valores médios para cada segmento e o tamanho do retorno de cada segmento\n",
    "rfm_level_agg = rfm.groupby(['Segmento de Cliente']).agg({'Recency': 'mean',\n",
    "                                                          'Frequency' : 'mean',\n",
    "                                                          'Monetary': ['mean', 'count'],\n",
    "                                                          'Marketing Action' : 'unique'}).round(1)"
   ]
  },
  {
   "cell_type": "code",
   "execution_count": 59,
   "id": "d2714cd6-7f08-4138-83ff-08eb78633fa8",
   "metadata": {},
   "outputs": [
    {
     "data": {
      "text/html": [
       "<div>\n",
       "<style scoped>\n",
       "    .dataframe tbody tr th:only-of-type {\n",
       "        vertical-align: middle;\n",
       "    }\n",
       "\n",
       "    .dataframe tbody tr th {\n",
       "        vertical-align: top;\n",
       "    }\n",
       "\n",
       "    .dataframe thead tr th {\n",
       "        text-align: left;\n",
       "    }\n",
       "\n",
       "    .dataframe thead tr:last-of-type th {\n",
       "        text-align: right;\n",
       "    }\n",
       "</style>\n",
       "<table border=\"1\" class=\"dataframe\">\n",
       "  <thead>\n",
       "    <tr>\n",
       "      <th></th>\n",
       "      <th>Recency</th>\n",
       "      <th>Frequency</th>\n",
       "      <th colspan=\"2\" halign=\"left\">Monetary</th>\n",
       "      <th>Marketing Action</th>\n",
       "    </tr>\n",
       "    <tr>\n",
       "      <th></th>\n",
       "      <th>mean</th>\n",
       "      <th>mean</th>\n",
       "      <th>mean</th>\n",
       "      <th>count</th>\n",
       "      <th>unique</th>\n",
       "    </tr>\n",
       "    <tr>\n",
       "      <th>Segmento de Cliente</th>\n",
       "      <th></th>\n",
       "      <th></th>\n",
       "      <th></th>\n",
       "      <th></th>\n",
       "      <th></th>\n",
       "    </tr>\n",
       "  </thead>\n",
       "  <tbody>\n",
       "    <tr>\n",
       "      <th>Clientes Leais</th>\n",
       "      <td>153.6</td>\n",
       "      <td>103.0</td>\n",
       "      <td>291.5</td>\n",
       "      <td>1555</td>\n",
       "      <td>[Oferecer programas de fidelidade e venda cruzada (Cross-Sell)]</td>\n",
       "    </tr>\n",
       "    <tr>\n",
       "      <th>Clientes Leais Que Compram com Frequência</th>\n",
       "      <td>54.3</td>\n",
       "      <td>424.5</td>\n",
       "      <td>1494.1</td>\n",
       "      <td>1372</td>\n",
       "      <td>[Oferecer itens mais caros (Upsell)]</td>\n",
       "    </tr>\n",
       "    <tr>\n",
       "      <th>Clientes Perdidos</th>\n",
       "      <td>233.4</td>\n",
       "      <td>13.0</td>\n",
       "      <td>33.2</td>\n",
       "      <td>375</td>\n",
       "      <td>[Não gaste muito tentando readquirir esse cliente]</td>\n",
       "    </tr>\n",
       "    <tr>\n",
       "      <th>Clientes Quase Perdidos</th>\n",
       "      <td>530.4</td>\n",
       "      <td>18.5</td>\n",
       "      <td>59.0</td>\n",
       "      <td>1094</td>\n",
       "      <td>[Oferecer Incentivos de preços agressivos]</td>\n",
       "    </tr>\n",
       "    <tr>\n",
       "      <th>Clientes Que Precisam de Atenção</th>\n",
       "      <td>308.2</td>\n",
       "      <td>35.5</td>\n",
       "      <td>123.0</td>\n",
       "      <td>467</td>\n",
       "      <td>[Incentivos de preço e oferta por tempo limitado]</td>\n",
       "    </tr>\n",
       "    <tr>\n",
       "      <th>Potenciais Clientes Leais</th>\n",
       "      <td>74.2</td>\n",
       "      <td>25.9</td>\n",
       "      <td>337.6</td>\n",
       "      <td>1061</td>\n",
       "      <td>[Recomendações de venda cruzada e cupons de desconto]</td>\n",
       "    </tr>\n",
       "  </tbody>\n",
       "</table>\n",
       "</div>"
      ],
      "text/plain": [
       "                                          Recency Frequency Monetary        \\\n",
       "                                             mean      mean     mean count   \n",
       "Segmento de Cliente                                                          \n",
       "Clientes Leais                              153.6     103.0    291.5  1555   \n",
       "Clientes Leais Que Compram com Frequência    54.3     424.5   1494.1  1372   \n",
       "Clientes Perdidos                           233.4      13.0     33.2   375   \n",
       "Clientes Quase Perdidos                     530.4      18.5     59.0  1094   \n",
       "Clientes Que Precisam de Atenção            308.2      35.5    123.0   467   \n",
       "Potenciais Clientes Leais                    74.2      25.9    337.6  1061   \n",
       "\n",
       "                                                                                          Marketing Action  \n",
       "                                                                                                    unique  \n",
       "Segmento de Cliente                                                                                         \n",
       "Clientes Leais                             [Oferecer programas de fidelidade e venda cruzada (Cross-Sell)]  \n",
       "Clientes Leais Que Compram com Frequência                             [Oferecer itens mais caros (Upsell)]  \n",
       "Clientes Perdidos                                       [Não gaste muito tentando readquirir esse cliente]  \n",
       "Clientes Quase Perdidos                                         [Oferecer Incentivos de preços agressivos]  \n",
       "Clientes Que Precisam de Atenção                         [Incentivos de preço e oferta por tempo limitado]  \n",
       "Potenciais Clientes Leais                            [Recomendações de venda cruzada e cupons de desconto]  "
      ]
     },
     "execution_count": 59,
     "metadata": {},
     "output_type": "execute_result"
    }
   ],
   "source": [
    "# Imprime\n",
    "rfm_level_agg"
   ]
  },
  {
   "cell_type": "code",
   "execution_count": 60,
   "id": "1d9a6aa2-c4dc-4031-a11b-a55197c34c59",
   "metadata": {},
   "outputs": [
    {
     "data": {
      "text/html": [
       "<div>\n",
       "<style scoped>\n",
       "    .dataframe tbody tr th:only-of-type {\n",
       "        vertical-align: middle;\n",
       "    }\n",
       "\n",
       "    .dataframe tbody tr th {\n",
       "        vertical-align: top;\n",
       "    }\n",
       "\n",
       "    .dataframe thead tr th {\n",
       "        text-align: left;\n",
       "    }\n",
       "</style>\n",
       "<table border=\"1\" class=\"dataframe\">\n",
       "  <thead>\n",
       "    <tr>\n",
       "      <th></th>\n",
       "      <th>Segmento de Cliente</th>\n",
       "      <th>Recency</th>\n",
       "      <th>Frequency</th>\n",
       "      <th colspan=\"2\" halign=\"left\">Monetary</th>\n",
       "      <th>Marketing Action</th>\n",
       "    </tr>\n",
       "    <tr>\n",
       "      <th></th>\n",
       "      <th></th>\n",
       "      <th>mean</th>\n",
       "      <th>mean</th>\n",
       "      <th>mean</th>\n",
       "      <th>count</th>\n",
       "      <th>unique</th>\n",
       "    </tr>\n",
       "  </thead>\n",
       "  <tbody>\n",
       "    <tr>\n",
       "      <th>0</th>\n",
       "      <td>Clientes Leais</td>\n",
       "      <td>153.6</td>\n",
       "      <td>103.0</td>\n",
       "      <td>291.5</td>\n",
       "      <td>1555</td>\n",
       "      <td>[Oferecer programas de fidelidade e venda cruzada (Cross-Sell)]</td>\n",
       "    </tr>\n",
       "    <tr>\n",
       "      <th>1</th>\n",
       "      <td>Clientes Leais Que Compram com Frequência</td>\n",
       "      <td>54.3</td>\n",
       "      <td>424.5</td>\n",
       "      <td>1494.1</td>\n",
       "      <td>1372</td>\n",
       "      <td>[Oferecer itens mais caros (Upsell)]</td>\n",
       "    </tr>\n",
       "    <tr>\n",
       "      <th>2</th>\n",
       "      <td>Clientes Perdidos</td>\n",
       "      <td>233.4</td>\n",
       "      <td>13.0</td>\n",
       "      <td>33.2</td>\n",
       "      <td>375</td>\n",
       "      <td>[Não gaste muito tentando readquirir esse cliente]</td>\n",
       "    </tr>\n",
       "    <tr>\n",
       "      <th>3</th>\n",
       "      <td>Clientes Quase Perdidos</td>\n",
       "      <td>530.4</td>\n",
       "      <td>18.5</td>\n",
       "      <td>59.0</td>\n",
       "      <td>1094</td>\n",
       "      <td>[Oferecer Incentivos de preços agressivos]</td>\n",
       "    </tr>\n",
       "    <tr>\n",
       "      <th>4</th>\n",
       "      <td>Clientes Que Precisam de Atenção</td>\n",
       "      <td>308.2</td>\n",
       "      <td>35.5</td>\n",
       "      <td>123.0</td>\n",
       "      <td>467</td>\n",
       "      <td>[Incentivos de preço e oferta por tempo limitado]</td>\n",
       "    </tr>\n",
       "    <tr>\n",
       "      <th>5</th>\n",
       "      <td>Potenciais Clientes Leais</td>\n",
       "      <td>74.2</td>\n",
       "      <td>25.9</td>\n",
       "      <td>337.6</td>\n",
       "      <td>1061</td>\n",
       "      <td>[Recomendações de venda cruzada e cupons de desconto]</td>\n",
       "    </tr>\n",
       "  </tbody>\n",
       "</table>\n",
       "</div>"
      ],
      "text/plain": [
       "                         Segmento de Cliente Recency Frequency Monetary        \\\n",
       "                                                mean      mean     mean count   \n",
       "0                             Clientes Leais   153.6     103.0    291.5  1555   \n",
       "1  Clientes Leais Que Compram com Frequência    54.3     424.5   1494.1  1372   \n",
       "2                          Clientes Perdidos   233.4      13.0     33.2   375   \n",
       "3                    Clientes Quase Perdidos   530.4      18.5     59.0  1094   \n",
       "4           Clientes Que Precisam de Atenção   308.2      35.5    123.0   467   \n",
       "5                  Potenciais Clientes Leais    74.2      25.9    337.6  1061   \n",
       "\n",
       "                                                  Marketing Action  \n",
       "                                                            unique  \n",
       "0  [Oferecer programas de fidelidade e venda cruzada (Cross-Sell)]  \n",
       "1                             [Oferecer itens mais caros (Upsell)]  \n",
       "2               [Não gaste muito tentando readquirir esse cliente]  \n",
       "3                       [Oferecer Incentivos de preços agressivos]  \n",
       "4                [Incentivos de preço e oferta por tempo limitado]  \n",
       "5            [Recomendações de venda cruzada e cupons de desconto]  "
      ]
     },
     "execution_count": 60,
     "metadata": {},
     "output_type": "execute_result"
    }
   ],
   "source": [
    "# Ajustando o dataframe e fazendo o reset do índice\n",
    "rfm_level_ag = pd.DataFrame(rfm_level_agg)\n",
    "rfm_level_ag = rfm_level_ag.reset_index()\n",
    "rfm_level_ag"
   ]
  },
  {
   "cell_type": "markdown",
   "id": "a52745dd-f3f3-45a4-96dd-c1b806e188c5",
   "metadata": {},
   "source": [
    "**Recomendações Para a Área de Negócio:**\n",
    "\n",
    "**Clientes Leais** - São os clientes mais leais. Eles são ativos com compras frequentes e alto valor monetário. Eles podem ser os evangelistas da marca e a empresa deve se concentrar em servi-los muito bem. Eles podem ser os melhores clientes para obter feedback sobre o lançamento de qualquer novo produto ou ser os primeiros a adotar ou promover novos produtos/serviços.\n",
    "\n",
    "**Potenciais Clientes Leais** - Alto potencial para entrar em nossos segmentos de clientes fiéis, por que não oferecer alguns brindes em sua próxima compra para mostrar que você os valoriza?\n",
    "\n",
    "**Clientes Que Precisam de Atenção** - Mostrando sinais promissores com a quantidade e valor de sua compra, mas já faz um tempo que não compram. Vamos direcioná-los para seus itens da lista de desejos e um desconto com oferta por tempo limitado.\n",
    "\n",
    "**Clientes Quase Perdidos** - Fizeram algumas compras iniciais, mas não voltaram desde então. Foi uma experiência ruim para o cliente? Ou adequação ao mercado do produto? Vamos gastar alguns recursos para construir o conhecimento de nossa marca com eles?\n",
    "\n",
    "**Clientes Leais Que Compram com Frequência** - É sempre uma boa ideia tratar cuidadosamente todos os novos clientes, mas como esses clientes gastaram muito em suas compras, são ainda mais valiosos. É importante fazer com que eles se sintam valorizados e apreciados - e dar-lhes incentivos incríveis para continuar a interagir com a marca.\n",
    "\n",
    "**Clientes VIP** - Buscam e querem mais do que preço. Programa de fidelidade ou produto/serviço exclusivo ou limitado são opções para manter esses clientes."
   ]
  },
  {
   "cell_type": "raw",
   "id": "957c1856-46a7-41a5-8399-3e469ea0b6a6",
   "metadata": {},
   "source": [
    "### <font color='blue'>Gráfico</font>"
   ]
  },
  {
   "cell_type": "code",
   "execution_count": 62,
   "id": "4fe6ef39-5cef-429e-a26d-d0d671536caa",
   "metadata": {},
   "outputs": [
    {
     "data": {
      "image/png": "[encoded data removed]",
      "text/plain": [
       "<Figure size 800x600 with 1 Axes>"
      ]
     },
     "metadata": {},
     "output_type": "display_data"
    }
   ],
   "source": [
    "# Ordenar o DataFrame pelo valor de ('Monetary', 'count') em ordem crescente\n",
    "rfm_level_ag_sorted = rfm_level_ag.sort_values(by=('Monetary', 'count'), ascending=True)\n",
    "\n",
    "# Criar o gráfico de barras horizontais\n",
    "plt.figure(figsize=(8, 6))\n",
    "plt.barh(rfm_level_ag_sorted['Segmento de Cliente'], rfm_level_ag_sorted[('Monetary', 'count')], color='green')\n",
    "\n",
    "# Adicionar títulos e rótulos\n",
    "plt.xlabel('Contagem (Monetary)')\n",
    "plt.ylabel('Segmento de Cliente')\n",
    "plt.title('Distribuição de Clientes por Segmento')\n",
    "\n",
    "# Exibir o gráfico\n",
    "plt.show()\n"
   ]
  },
  {
   "cell_type": "markdown",
   "id": "3ad6b82f-c539-4d1c-8aa9-4888aa9ad786",
   "metadata": {},
   "source": [
    "### <font color='blue'>Sistema e Versões do Pacote</font>"
   ]
  },
  {
   "cell_type": "code",
   "execution_count": 63,
   "id": "c28361fd-6518-4aa2-bf87-eedab839a79c",
   "metadata": {},
   "outputs": [
    {
     "name": "stdout",
     "output_type": "stream",
     "text": [
      "Python implementation: CPython\n",
      "Python version       : 3.12.4\n",
      "IPython version      : 8.25.0\n",
      "\n",
      "Compiler    : MSC v.1929 64 bit (AMD64)\n",
      "OS          : Windows\n",
      "Release     : 11\n",
      "Machine     : AMD64\n",
      "Processor   : Intel64 Family 6 Model 126 Stepping 5, GenuineIntel\n",
      "CPU cores   : 4\n",
      "Architecture: 64bit\n",
      "\n",
      "matplotlib: 3.8.4\n",
      "pandas    : 2.2.2\n",
      "squarify  : 0.4.4\n",
      "sklearn   : 1.4.2\n",
      "plotly    : 5.22.0\n",
      "seaborn   : 0.13.2\n",
      "\n"
     ]
    }
   ],
   "source": [
    "%reload_ext watermark\n",
    "%watermark -v -m\n",
    "%watermark --iversions"
   ]
  }
 ],
 "metadata": {
  "kernelspec": {
   "display_name": "Python 3 (ipykernel)",
   "language": "python",
   "name": "python3"
  },
  "language_info": {
   "codemirror_mode": {
    "name": "ipython",
    "version": 3
   },
   "file_extension": ".py",
   "mimetype": "text/x-python",
   "name": "python",
   "nbconvert_exporter": "python",
   "pygments_lexer": "ipython3",
   "version": "3.12.4"
  }
 },
 "nbformat": 4,
 "nbformat_minor": 5
}
